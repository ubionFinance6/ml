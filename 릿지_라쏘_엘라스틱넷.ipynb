{
 "cells": [
  {
   "cell_type": "markdown",
   "id": "ca1cbbb3",
   "metadata": {},
   "source": [
    "### sklearn.linear_model.Ridge\n",
    "\n",
    "* _class_ sklearn.linear_model.Ridge(_alpha=1.0_, _*_, _fit_intercept=True_, _normalize='deprecated'_, _copy_X=True_, _max_iter=None_, _tol=0.001_, _solver='auto'_, _positive=False_, _random_state=None_)[[source]](https://github.com/scikit-learn/scikit-learn/blob/f3f51f9b6/sklearn/linear_model/_ridge.py#L910)[¶](https://scikit-learn.org/1.1/modules/generated/sklearn.linear_model.Ridge.html?highlight=ridge#sklearn.linear_model.Ridge \"Permalink to this definition\")\n",
    "\n",
    "Parameters:\n",
    "\n",
    "**alpha**{float, ndarray of shape (n_targets,)}, default=1.0\n",
    "\n",
    "Constant that multiplies the L2 term, controlling regularization strength.  `alpha`  must be a non-negative float i.e. in  `[0,  inf)`.\n",
    "\n",
    "When  `alpha  =  0`, the objective is equivalent to ordinary least squares, solved by the  [`LinearRegression`](https://scikit-learn.org/1.1/modules/generated/sklearn.linear_model.LinearRegression.html#sklearn.linear_model.LinearRegression \"sklearn.linear_model.LinearRegression\")  object. For numerical reasons, using  `alpha  =  0`  with the  `Ridge`  object is not advised. Instead, you should use the  [`LinearRegression`](https://scikit-learn.org/1.1/modules/generated/sklearn.linear_model.LinearRegression.html#sklearn.linear_model.LinearRegression \"sklearn.linear_model.LinearRegression\")  object.\n",
    "\n",
    "If an array is passed, penalties are assumed to be specific to the targets. Hence they must correspond in number.\n",
    "\n",
    "**fit_intercept**bool, default=True\n",
    "\n",
    "Whether to fit the intercept for this model. If set to false, no intercept will be used in calculations (i.e.  `X`  and  `y`  are expected to be centered).\n",
    "\n",
    "**normalize**bool, default=False\n",
    "\n",
    "This parameter is ignored when  `fit_intercept`  is set to False. If True, the regressors X will be normalized before regression by subtracting the mean and dividing by the l2-norm. If you wish to standardize, please use  [`StandardScaler`](https://scikit-learn.org/1.1/modules/generated/sklearn.preprocessing.StandardScaler.html#sklearn.preprocessing.StandardScaler \"sklearn.preprocessing.StandardScaler\")  before calling  `fit`  on an estimator with  `normalize=False`.\n",
    "\n",
    "Deprecated since version 1.0: `normalize`  was deprecated in version 1.0 and will be removed in 1.2.\n",
    "\n",
    "**copy_X**bool, default=True\n",
    "\n",
    "If True, X will be copied; else, it may be overwritten.\n",
    "\n",
    "**max_iter**int, default=None\n",
    "\n",
    "Maximum number of iterations for conjugate gradient solver. For ‘sparse_cg’ and ‘lsqr’ solvers, the default value is determined by scipy.sparse.linalg. For ‘sag’ solver, the default value is 1000. For ‘lbfgs’ solver, the default value is 15000.\n",
    "\n",
    "**tol**float, default=1e-3\n",
    "\n",
    "Precision of the solution.\n",
    "\n",
    "**solver**{‘auto’, ‘svd’, ‘cholesky’, ‘lsqr’, ‘sparse_cg’, ‘sag’, ‘saga’, ‘lbfgs’}, default=’auto’\n",
    "\n",
    "Solver to use in the computational routines:\n",
    "\n",
    "-   ‘auto’ chooses the solver automatically based on the type of data.\n",
    "    \n",
    "-   ‘svd’ uses a Singular Value Decomposition of X to compute the Ridge coefficients. It is the most stable solver, in particular more stable for singular matrices than ‘cholesky’ at the cost of being slower.\n",
    "    \n",
    "-   ‘cholesky’ uses the standard scipy.linalg.solve function to obtain a closed-form solution.\n",
    "    \n",
    "-   ‘sparse_cg’ uses the conjugate gradient solver as found in scipy.sparse.linalg.cg. As an iterative algorithm, this solver is more appropriate than ‘cholesky’ for large-scale data (possibility to set  `tol`  and  `max_iter`).\n",
    "    \n",
    "-   ‘lsqr’ uses the dedicated regularized least-squares routine scipy.sparse.linalg.lsqr. It is the fastest and uses an iterative procedure.\n",
    "    \n",
    "-   ‘sag’ uses a Stochastic Average Gradient descent, and ‘saga’ uses its improved, unbiased version named SAGA. Both methods also use an iterative procedure, and are often faster than other solvers when both n_samples and n_features are large. Note that ‘sag’ and ‘saga’ fast convergence is only guaranteed on features with approximately the same scale. You can preprocess the data with a scaler from sklearn.preprocessing.\n",
    "    \n",
    "-   ‘lbfgs’ uses L-BFGS-B algorithm implemented in  `scipy.optimize.minimize`. It can be used only when  `positive`  is True.\n",
    "    \n",
    "\n",
    "All solvers except ‘svd’ support both dense and sparse data. However, only ‘lsqr’, ‘sag’, ‘sparse_cg’, and ‘lbfgs’ support sparse input when  `fit_intercept`  is True.\n",
    "\n",
    "New in version 0.17: Stochastic Average Gradient descent solver.\n",
    "\n",
    "New in version 0.19: SAGA solver.\n",
    "\n",
    "**positive**bool, default=False\n",
    "\n",
    "When set to  `True`, forces the coefficients to be positive. Only ‘lbfgs’ solver is supported in this case.\n",
    "\n",
    "**random_state**int, RandomState instance, default=None\n",
    "\n",
    "Used when  `solver`  == ‘sag’ or ‘saga’ to shuffle the data. See  [Glossary](https://scikit-learn.org/1.1/glossary.html#term-random_state)  for details.\n",
    "\n",
    "New in version 0.17: `random_state`  to support Stochastic Average Gradient."
   ]
  },
  {
   "cell_type": "markdown",
   "id": "dc3c76be",
   "metadata": {},
   "source": [
    "### sklearn.linear_model.Lasso\n",
    "\n",
    "* _class_ sklearn.linear_model.Lasso(_alpha=1.0_, _*_, _fit_intercept=True_, _normalize='deprecated'_, _precompute=False_, _copy_X=True_, _max_iter=1000_, _tol=0.0001_, _warm_start=False_, _positive=False_, _random_state=None_, _selection='cyclic'_)[[source]](https://github.com/scikit-learn/scikit-learn/blob/f3f51f9b6/sklearn/linear_model/_coordinate_descent.py#L1134)[¶](https://scikit-learn.org/1.1/modules/generated/sklearn.linear_model.Lasso.html?highlight=lasso#sklearn.linear_model.Lasso \"Permalink to this definition\")\n",
    "\n",
    "Parameters:\n",
    "\n",
    "**alpha**float, default=1.0\n",
    "\n",
    "Constant that multiplies the L1 term, controlling regularization strength.  `alpha`  must be a non-negative float i.e. in  `[0,  inf)`.\n",
    "\n",
    "When  `alpha  =  0`, the objective is equivalent to ordinary least squares, solved by the  [`LinearRegression`](https://scikit-learn.org/1.1/modules/generated/sklearn.linear_model.LinearRegression.html#sklearn.linear_model.LinearRegression \"sklearn.linear_model.LinearRegression\")  object. For numerical reasons, using  `alpha  =  0`  with the  `Lasso`  object is not advised. Instead, you should use the  [`LinearRegression`](https://scikit-learn.org/1.1/modules/generated/sklearn.linear_model.LinearRegression.html#sklearn.linear_model.LinearRegression \"sklearn.linear_model.LinearRegression\")  object.\n",
    "\n",
    "**fit_intercept**bool, default=True\n",
    "\n",
    "Whether to calculate the intercept for this model. If set to False, no intercept will be used in calculations (i.e. data is expected to be centered).\n",
    "\n",
    "**normalize**bool, default=False\n",
    "\n",
    "This parameter is ignored when  `fit_intercept`  is set to False. If True, the regressors X will be normalized before regression by subtracting the mean and dividing by the l2-norm. If you wish to standardize, please use  [`StandardScaler`](https://scikit-learn.org/1.1/modules/generated/sklearn.preprocessing.StandardScaler.html#sklearn.preprocessing.StandardScaler \"sklearn.preprocessing.StandardScaler\")  before calling  `fit`  on an estimator with  `normalize=False`.\n",
    "\n",
    "Deprecated since version 1.0: `normalize`  was deprecated in version 1.0 and will be removed in 1.2.\n",
    "\n",
    "**precompute**bool or array-like of shape (n_features, n_features), default=False\n",
    "\n",
    "Whether to use a precomputed Gram matrix to speed up calculations. The Gram matrix can also be passed as argument. For sparse input this option is always  `False`  to preserve sparsity.\n",
    "\n",
    "**copy_X**bool, default=True\n",
    "\n",
    "If  `True`, X will be copied; else, it may be overwritten.\n",
    "\n",
    "**max_iter**int, default=1000\n",
    "\n",
    "The maximum number of iterations.\n",
    "\n",
    "**tol**float, default=1e-4\n",
    "\n",
    "The tolerance for the optimization: if the updates are smaller than  `tol`, the optimization code checks the dual gap for optimality and continues until it is smaller than  `tol`, see Notes below.\n",
    "\n",
    "**warm_start**bool, default=False\n",
    "\n",
    "When set to True, reuse the solution of the previous call to fit as initialization, otherwise, just erase the previous solution. See  [the Glossary](https://scikit-learn.org/1.1/glossary.html#term-warm_start).\n",
    "\n",
    "**positive**bool, default=False\n",
    "\n",
    "When set to  `True`, forces the coefficients to be positive.\n",
    "\n",
    "**random_state**int, RandomState instance, default=None\n",
    "\n",
    "The seed of the pseudo random number generator that selects a random feature to update. Used when  `selection`  == ‘random’. Pass an int for reproducible output across multiple function calls. See  [Glossary](https://scikit-learn.org/1.1/glossary.html#term-random_state).\n",
    "\n",
    "**selection**{‘cyclic’, ‘random’}, default=’cyclic’\n",
    "\n",
    "If set to ‘random’, a random coefficient is updated every iteration rather than looping over features sequentially by default. This (setting to ‘random’) often leads to significantly faster convergence especially when tol is higher than 1e-4."
   ]
  },
  {
   "cell_type": "code",
   "execution_count": 21,
   "id": "83f37dd3",
   "metadata": {
    "ExecuteTime": {
     "end_time": "2023-02-08T02:28:10.107805Z",
     "start_time": "2023-02-08T02:28:10.033933Z"
    }
   },
   "outputs": [
    {
     "name": "stdout",
     "output_type": "stream",
     "text": [
      "[-11.4217962  -24.29446706 -28.14355069 -74.59916618 -28.51714218] [3.3796148  4.92894178 5.30504955 8.63708088 5.3401444 ] 5.518166280868973\n"
     ]
    }
   ],
   "source": [
    "import pandas as pd\n",
    "import numpy as np\n",
    "import matplotlib.pyplot as plt\n",
    "from sklearn.linear_model import Ridge\n",
    "from sklearn.model_selection import cross_val_score\n",
    "\n",
    "boston = pd.read_csv(\"./datasets/Boston.csv\",index_col=0)\n",
    "label = boston[\"medv\"]\n",
    "feature = boston.drop(columns= \"medv\", axis=1)\n",
    "\n",
    "ridge = Ridge(alpha=10)\n",
    "neg_mse_ridge_score = cross_val_score(ridge, feature, label, scoring=\"neg_mean_squared_error\", cv=5)\n",
    "rmse_score = np.sqrt(-1 * neg_mse_ridge_score)\n",
    "avg_rmse_ridge = np.mean(rmse_score)\n",
    "print(neg_mse_ridge_score, rmse_score, avg_rmse_ridge)"
   ]
  },
  {
   "cell_type": "code",
   "execution_count": 6,
   "id": "fc24c5da",
   "metadata": {
    "ExecuteTime": {
     "end_time": "2023-02-08T01:57:04.935730Z",
     "start_time": "2023-02-08T01:57:04.764647Z"
    }
   },
   "outputs": [
    {
     "name": "stdout",
     "output_type": "stream",
     "text": [
      "5.828658946215807\n",
      "5.788486627032413\n",
      "5.652570965613547\n",
      "5.518166280868973\n",
      "5.329589628472148\n"
     ]
    }
   ],
   "source": [
    "alphas = [0,0.1,1,10,100]\n",
    "\n",
    "for alpha in alphas:\n",
    "    ridge = Ridge(alpha=alpha)\n",
    "    neg_mse_ridge_score = cross_val_score(ridge, feature, label, scoring=\"neg_mean_squared_error\", cv=5)\n",
    "    avg_rmse = np.mean(np.sqrt(-1 * neg_mse_ridge_score))\n",
    "    print(avg_rmse)\n",
    "    "
   ]
  },
  {
   "cell_type": "code",
   "execution_count": 7,
   "id": "ed168024",
   "metadata": {
    "ExecuteTime": {
     "end_time": "2023-02-08T01:57:05.265664Z",
     "start_time": "2023-02-08T01:57:05.189715Z"
    }
   },
   "outputs": [
    {
     "data": {
      "text/plain": [
       "5.828658946215835"
      ]
     },
     "execution_count": 7,
     "metadata": {},
     "output_type": "execute_result"
    }
   ],
   "source": [
    "from sklearn.linear_model import LinearRegression\n",
    "li_reg = LinearRegression()\n",
    "neg_mse_li_reg_score = cross_val_score(li_reg, feature, label, scoring=\"neg_mean_squared_error\", cv=5)\n",
    "\n",
    "avg_rmse_li_reg = np.mean(np.sqrt(-1 * neg_mse_li_reg_score))\n",
    "avg_rmse_li_reg"
   ]
  },
  {
   "cell_type": "code",
   "execution_count": 8,
   "id": "d29c9eb8",
   "metadata": {
    "ExecuteTime": {
     "end_time": "2023-02-08T01:57:05.881816Z",
     "start_time": "2023-02-08T01:57:05.821976Z"
    }
   },
   "outputs": [
    {
     "data": {
      "text/plain": [
       "6.585731788106536"
      ]
     },
     "execution_count": 8,
     "metadata": {},
     "output_type": "execute_result"
    }
   ],
   "source": [
    "from sklearn.linear_model import Lasso\n",
    "\n",
    "lasso = Lasso(alpha=10)\n",
    "neg_mse_lasso_score = cross_val_score(lasso, feature, label, scoring=\"neg_mean_squared_error\", cv=5)\n",
    "avg_rmse_lasso = np.mean(np.sqrt(-1 * neg_mse_lasso_score))\n",
    "avg_rmse_lasso"
   ]
  },
  {
   "cell_type": "code",
   "execution_count": 9,
   "id": "8f7bb2f8",
   "metadata": {
    "ExecuteTime": {
     "end_time": "2023-02-08T01:57:31.837123Z",
     "start_time": "2023-02-08T01:57:30.268963Z"
    }
   },
   "outputs": [
    {
     "data": {
      "image/png": "[encoded data removed]",
      "text/plain": [
       "<Figure size 1800x600 with 5 Axes>"
      ]
     },
     "metadata": {},
     "output_type": "display_data"
    }
   ],
   "source": [
    "import seaborn as sns\n",
    "\n",
    "fig, axs = plt.subplots(figsize = (18,6), nrows=1, ncols=5)\n",
    "coeff_df = pd.DataFrame()\n",
    "\n",
    "for pos, alpha in enumerate(alphas):\n",
    "    ridge = Ridge(alpha=alpha)\n",
    "    ridge.fit(feature,label)\n",
    "    coeff = pd.Series(data=ridge.coef_, index= feature.columns)\n",
    "    colname = \"alpha : \" + str(alpha)\n",
    "    coeff_df[colname] = coeff\n",
    "    \n",
    "    coeff = coeff.sort_values(ascending=False)\n",
    "    axs[pos].set_title(colname)\n",
    "    axs[pos].set_xlim(-3,6)\n",
    "    sns.barplot(x = coeff.values, y = coeff.index, ax = axs[pos])\n",
    "    \n",
    "plt.show()"
   ]
  },
  {
   "cell_type": "code",
   "execution_count": 10,
   "id": "582ccbd4",
   "metadata": {
    "ExecuteTime": {
     "end_time": "2023-02-08T01:57:52.203943Z",
     "start_time": "2023-02-08T01:57:52.193609Z"
    }
   },
   "outputs": [
    {
     "data": {
      "text/plain": [
       "rm         2.334536\n",
       "chas       0.638335\n",
       "rad        0.315358\n",
       "zn         0.054496\n",
       "black      0.009393\n",
       "age        0.001212\n",
       "tax       -0.015856\n",
       "indus     -0.052826\n",
       "crim      -0.102202\n",
       "nox       -0.262847\n",
       "lstat     -0.660764\n",
       "ptratio   -0.829218\n",
       "dis       -1.153390\n",
       "dtype: float64"
      ]
     },
     "execution_count": 10,
     "metadata": {},
     "output_type": "execute_result"
    }
   ],
   "source": [
    "coeff"
   ]
  },
  {
   "cell_type": "code",
   "execution_count": 15,
   "id": "e3a88d32",
   "metadata": {
    "ExecuteTime": {
     "end_time": "2023-02-08T02:02:43.383591Z",
     "start_time": "2023-02-08T02:02:41.611826Z"
    }
   },
   "outputs": [
    {
     "name": "stderr",
     "output_type": "stream",
     "text": [
      "C:\\Users\\user\\AppData\\Local\\Temp\\ipykernel_7120\\765604367.py:7: UserWarning: With alpha=0, this algorithm does not converge well. You are advised to use the LinearRegression estimator\n",
      "  lasso.fit(feature,label)\n",
      "C:\\Users\\user\\AppData\\Local\\Programs\\Python\\Python311\\Lib\\site-packages\\sklearn\\linear_model\\_coordinate_descent.py:631: UserWarning: Coordinate descent with no regularization may lead to unexpected results and is discouraged.\n",
      "  model = cd_fast.enet_coordinate_descent(\n",
      "C:\\Users\\user\\AppData\\Local\\Programs\\Python\\Python311\\Lib\\site-packages\\sklearn\\linear_model\\_coordinate_descent.py:631: ConvergenceWarning: Objective did not converge. You might want to increase the number of iterations, check the scale of the features or consider increasing regularisation. Duality gap: 5.539e+03, tolerance: 4.272e+00 Linear regression models with null weight for the l1 regularization term are more efficiently fitted using one of the solvers implemented in sklearn.linear_model.Ridge/RidgeCV instead.\n",
      "  model = cd_fast.enet_coordinate_descent(\n"
     ]
    },
    {
     "name": "stdout",
     "output_type": "stream",
     "text": [
      "rm          3.809865\n",
      "chas        2.686734\n",
      "rad         0.306049\n",
      "zn          0.046420\n",
      "indus       0.020559\n",
      "black       0.009312\n",
      "age         0.000692\n",
      "tax        -0.012335\n",
      "crim       -0.108011\n",
      "lstat      -0.524758\n",
      "ptratio    -0.952747\n",
      "dis        -1.475567\n",
      "nox       -17.766611\n",
      "dtype: float64\n",
      "rm          3.814186\n",
      "chas        2.504190\n",
      "rad         0.298526\n",
      "zn          0.046860\n",
      "black       0.009485\n",
      "indus       0.006474\n",
      "age        -0.001818\n",
      "tax        -0.012627\n",
      "crim       -0.106228\n",
      "lstat      -0.530481\n",
      "ptratio    -0.916369\n",
      "dis        -1.422155\n",
      "nox       -14.394478\n",
      "dtype: float64\n",
      "rm         0.949811\n",
      "rad        0.264206\n",
      "zn         0.049165\n",
      "age        0.020910\n",
      "black      0.008247\n",
      "indus     -0.000000\n",
      "chas       0.000000\n",
      "nox       -0.000000\n",
      "tax       -0.015212\n",
      "crim      -0.063437\n",
      "dis       -0.668790\n",
      "ptratio   -0.722966\n",
      "lstat     -0.761115\n",
      "dtype: float64\n",
      "zn         0.026146\n",
      "black      0.007496\n",
      "crim      -0.000000\n",
      "indus     -0.000000\n",
      "chas       0.000000\n",
      "nox        0.000000\n",
      "rm         0.000000\n",
      "age        0.000000\n",
      "dis       -0.000000\n",
      "rad        0.000000\n",
      "ptratio   -0.000000\n",
      "tax       -0.009282\n",
      "lstat     -0.564038\n",
      "dtype: float64\n",
      "black      0.004466\n",
      "crim      -0.000000\n",
      "zn         0.000000\n",
      "indus     -0.000000\n",
      "chas       0.000000\n",
      "nox       -0.000000\n",
      "rm         0.000000\n",
      "age       -0.000000\n",
      "dis        0.000000\n",
      "rad       -0.000000\n",
      "ptratio   -0.000000\n",
      "lstat     -0.000000\n",
      "tax       -0.020972\n",
      "dtype: float64\n"
     ]
    },
    {
     "data": {
      "image/png": "[encoded data removed]",
      "text/plain": [
       "<Figure size 1800x600 with 5 Axes>"
      ]
     },
     "metadata": {},
     "output_type": "display_data"
    }
   ],
   "source": [
    "fig, axs = plt.subplots(figsize = (18,6), nrows=1, ncols=5)\n",
    "coeff_df = pd.DataFrame()\n",
    "alphas = [0,0.01,1,10,100]\n",
    "\n",
    "for pos, alpha in enumerate(alphas):\n",
    "    lasso = Lasso(alpha=alpha)\n",
    "    lasso.fit(feature,label)\n",
    "    coeff = pd.Series(data=lasso.coef_, index= feature.columns)\n",
    "    colname = \"alpha : \" + str(alpha)\n",
    "    coeff_df[colname] = coeff\n",
    "    \n",
    "    coeff = coeff.sort_values(ascending=False)\n",
    "    print(coeff)\n",
    "    axs[pos].set_title(colname)\n",
    "    axs[pos].set_xlim(-3,6)\n",
    "    sns.barplot(x = coeff.values, y = coeff.index, ax = axs[pos])\n",
    "    \n",
    "plt.show()"
   ]
  },
  {
   "cell_type": "code",
   "execution_count": 12,
   "id": "247c7f5a",
   "metadata": {
    "ExecuteTime": {
     "end_time": "2023-02-08T01:58:41.183417Z",
     "start_time": "2023-02-08T01:58:41.175078Z"
    }
   },
   "outputs": [
    {
     "data": {
      "text/plain": [
       "black      0.004466\n",
       "crim      -0.000000\n",
       "zn         0.000000\n",
       "indus     -0.000000\n",
       "chas       0.000000\n",
       "nox       -0.000000\n",
       "rm         0.000000\n",
       "age       -0.000000\n",
       "dis        0.000000\n",
       "rad       -0.000000\n",
       "ptratio   -0.000000\n",
       "lstat     -0.000000\n",
       "tax       -0.020972\n",
       "dtype: float64"
      ]
     },
     "execution_count": 12,
     "metadata": {},
     "output_type": "execute_result"
    }
   ],
   "source": [
    "print(coeff)"
   ]
  },
  {
   "cell_type": "code",
   "execution_count": 22,
   "id": "27121537",
   "metadata": {
    "ExecuteTime": {
     "end_time": "2023-02-08T02:28:17.635086Z",
     "start_time": "2023-02-08T02:28:17.553258Z"
    }
   },
   "outputs": [
    {
     "data": {
      "text/plain": [
       "6.8136721500528905"
      ]
     },
     "execution_count": 22,
     "metadata": {},
     "output_type": "execute_result"
    }
   ],
   "source": [
    "from sklearn.linear_model import LinearRegression\n",
    "\n",
    "feature = feature[['rm' ,'chas']]\n",
    "li_reg = LinearRegression()\n",
    "neg_mse_li_reg_score = cross_val_score(li_reg, feature, label, scoring=\"neg_mean_squared_error\", cv=5)\n",
    "\n",
    "avg_rmse_li_reg = np.mean(np.sqrt(-1 * neg_mse_li_reg_score))\n",
    "avg_rmse_li_reg"
   ]
  },
  {
   "cell_type": "code",
   "execution_count": null,
   "id": "f1ebd366",
   "metadata": {},
   "outputs": [],
   "source": []
  }
 ],
 "metadata": {
  "kernelspec": {
   "display_name": "Python 3",
   "language": "python",
   "name": "python3"
  },
  "language_info": {
   "codemirror_mode": {
    "name": "ipython",
    "version": 3
   },
   "file_extension": ".py",
   "mimetype": "text/x-python",
   "name": "python",
   "nbconvert_exporter": "python",
   "pygments_lexer": "ipython3",
   "version": "3.11.1 (tags/v3.11.1:a7a450f, Dec  6 2022, 19:58:39) [MSC v.1934 64 bit (AMD64)]"
  },
  "toc": {
   "base_numbering": 1,
   "nav_menu": {},
   "number_sections": true,
   "sideBar": true,
   "skip_h1_title": false,
   "title_cell": "Table of Contents",
   "title_sidebar": "Contents",
   "toc_cell": false,
   "toc_position": {},
   "toc_section_display": true,
   "toc_window_display": false
  },
  "varInspector": {
   "cols": {
    "lenName": 16,
    "lenType": 16,
    "lenVar": 40
   },
   "kernels_config": {
    "python": {
     "delete_cmd_postfix": "",
     "delete_cmd_prefix": "del ",
     "library": "var_list.py",
     "varRefreshCmd": "print(var_dic_list())"
    },
    "r": {
     "delete_cmd_postfix": ") ",
     "delete_cmd_prefix": "rm(",
     "library": "var_list.r",
     "varRefreshCmd": "cat(var_dic_list()) "
    }
   },
   "types_to_exclude": [
    "module",
    "function",
    "builtin_function_or_method",
    "instance",
    "_Feature"
   ],
   "window_display": false
  },
  "vscode": {
   "interpreter": {
    "hash": "de47f5c92c0ee6f12a59a5613ac5feff6aab19ddff207ba0b3964cced08c4ccc"
   }
  }
 },
 "nbformat": 4,
 "nbformat_minor": 5
}
