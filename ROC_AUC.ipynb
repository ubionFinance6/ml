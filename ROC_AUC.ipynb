{
 "cells": [
  {
   "cell_type": "markdown",
   "id": "c990009d",
   "metadata": {},
   "source": [
    "### sklearn.metrics.roc_curv\n",
    "**sklearn.metrics.roc_curve(_y_true_, _y_score_, _*_, _pos_label=None_, _sample_weight=None_, _drop_intermediate=True_)[[source]](https://github.com/scikit-learn/scikit-learn/blob/f3f51f9b6/sklearn/metrics/_ranking.py#L892)[¶](https://scikit-learn.org/1.1/modules/generated/sklearn.metrics.roc_curve.html?highlight=roc+curve#sklearn.metrics.roc_curve \"Permalink to this definition\")\n",
    "\n",
    "Returns:\n",
    "\n",
    "**fpr**ndarray of shape (>2,)\n",
    "\n",
    "Increasing false positive rates such that element i is the false positive rate of predictions with score >=  `thresholds[i]`.\n",
    "\n",
    "**tpr**ndarray of shape (>2,)\n",
    "\n",
    "Increasing true positive rates such that element  `i`  is the true positive rate of predictions with score >=  `thresholds[i]`.\n",
    "\n",
    "**thresholds**ndarray of shape = (n_thresholds,)\n",
    "\n",
    "Decreasing thresholds on the decision function used to compute fpr and tpr.  `thresholds[0]`  represents no instances being predicted and is arbitrarily set to  `max(y_score)  +  1`."
   ]
  },
  {
   "cell_type": "code",
   "execution_count": null,
   "id": "2c16557c",
   "metadata": {},
   "outputs": [],
   "source": []
  }
 ],
 "metadata": {
  "kernelspec": {
   "display_name": "Python 3 (ipykernel)",
   "language": "python",
   "name": "python3"
  },
  "language_info": {
   "codemirror_mode": {
    "name": "ipython",
    "version": 3
   },
   "file_extension": ".py",
   "mimetype": "text/x-python",
   "name": "python",
   "nbconvert_exporter": "python",
   "pygments_lexer": "ipython3",
   "version": "3.11.1"
  },
  "toc": {
   "base_numbering": 1,
   "nav_menu": {},
   "number_sections": true,
   "sideBar": true,
   "skip_h1_title": false,
   "title_cell": "Table of Contents",
   "title_sidebar": "Contents",
   "toc_cell": false,
   "toc_position": {},
   "toc_section_display": true,
   "toc_window_display": false
  },
  "varInspector": {
   "cols": {
    "lenName": 16,
    "lenType": 16,
    "lenVar": 40
   },
   "kernels_config": {
    "python": {
     "delete_cmd_postfix": "",
     "delete_cmd_prefix": "del ",
     "library": "var_list.py",
     "varRefreshCmd": "print(var_dic_list())"
    },
    "r": {
     "delete_cmd_postfix": ") ",
     "delete_cmd_prefix": "rm(",
     "library": "var_list.r",
     "varRefreshCmd": "cat(var_dic_list()) "
    }
   },
   "types_to_exclude": [
    "module",
    "function",
    "builtin_function_or_method",
    "instance",
    "_Feature"
   ],
   "window_display": false
  }
 },
 "nbformat": 4,
 "nbformat_minor": 5
}
