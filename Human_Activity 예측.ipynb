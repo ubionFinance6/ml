{
 "cells": [
  {
   "cell_type": "code",
   "execution_count": 1,
   "id": "b854d5c3",
   "metadata": {
    "ExecuteTime": {
     "end_time": "2023-02-01T06:30:11.620758Z",
     "start_time": "2023-02-01T06:30:10.766711Z"
    }
   },
   "outputs": [],
   "source": [
    "import pandas as  pd\n",
    "\n",
    "feature_name_df = pd.read_csv('./datasets/human_activity/features.txt' , sep=\"\\s+\", header=None , names=['column_index', 'column_name'])"
   ]
  },
  {
   "cell_type": "code",
   "execution_count": 2,
   "id": "88865a6b",
   "metadata": {
    "ExecuteTime": {
     "end_time": "2023-02-01T06:30:18.873591Z",
     "start_time": "2023-02-01T06:30:18.837949Z"
    }
   },
   "outputs": [
    {
     "data": {
      "text/html": [
       "<div>\n",
       "<style scoped>\n",
       "    .dataframe tbody tr th:only-of-type {\n",
       "        vertical-align: middle;\n",
       "    }\n",
       "\n",
       "    .dataframe tbody tr th {\n",
       "        vertical-align: top;\n",
       "    }\n",
       "\n",
       "    .dataframe thead th {\n",
       "        text-align: right;\n",
       "    }\n",
       "</style>\n",
       "<table border=\"1\" class=\"dataframe\">\n",
       "  <thead>\n",
       "    <tr style=\"text-align: right;\">\n",
       "      <th></th>\n",
       "      <th>column_index</th>\n",
       "      <th>column_name</th>\n",
       "    </tr>\n",
       "  </thead>\n",
       "  <tbody>\n",
       "    <tr>\n",
       "      <th>0</th>\n",
       "      <td>1</td>\n",
       "      <td>tBodyAcc-mean()-X</td>\n",
       "    </tr>\n",
       "    <tr>\n",
       "      <th>1</th>\n",
       "      <td>2</td>\n",
       "      <td>tBodyAcc-mean()-Y</td>\n",
       "    </tr>\n",
       "    <tr>\n",
       "      <th>2</th>\n",
       "      <td>3</td>\n",
       "      <td>tBodyAcc-mean()-Z</td>\n",
       "    </tr>\n",
       "    <tr>\n",
       "      <th>3</th>\n",
       "      <td>4</td>\n",
       "      <td>tBodyAcc-std()-X</td>\n",
       "    </tr>\n",
       "    <tr>\n",
       "      <th>4</th>\n",
       "      <td>5</td>\n",
       "      <td>tBodyAcc-std()-Y</td>\n",
       "    </tr>\n",
       "  </tbody>\n",
       "</table>\n",
       "</div>"
      ],
      "text/plain": [
       "   column_index        column_name\n",
       "0             1  tBodyAcc-mean()-X\n",
       "1             2  tBodyAcc-mean()-Y\n",
       "2             3  tBodyAcc-mean()-Z\n",
       "3             4   tBodyAcc-std()-X\n",
       "4             5   tBodyAcc-std()-Y"
      ]
     },
     "execution_count": 2,
     "metadata": {},
     "output_type": "execute_result"
    }
   ],
   "source": [
    "feature_name_df.head()"
   ]
  },
  {
   "cell_type": "code",
   "execution_count": 12,
   "id": "8a4f8a51",
   "metadata": {
    "ExecuteTime": {
     "end_time": "2023-02-01T06:44:58.725921Z",
     "start_time": "2023-02-01T06:44:58.719405Z"
    }
   },
   "outputs": [],
   "source": [
    "feature_name = feature_name_df.iloc[: ,1].values.tolist()"
   ]
  },
  {
   "cell_type": "code",
   "execution_count": 13,
   "id": "b402a413",
   "metadata": {
    "ExecuteTime": {
     "end_time": "2023-02-01T06:50:37.307536Z",
     "start_time": "2023-02-01T06:50:37.298568Z"
    }
   },
   "outputs": [
    {
     "data": {
      "text/plain": [
       "561"
      ]
     },
     "execution_count": 13,
     "metadata": {},
     "output_type": "execute_result"
    }
   ],
   "source": [
    "len(feature_name)"
   ]
  },
  {
   "cell_type": "code",
   "execution_count": 17,
   "id": "e5bef775",
   "metadata": {
    "ExecuteTime": {
     "end_time": "2023-02-01T06:52:48.080628Z",
     "start_time": "2023-02-01T06:52:43.303135Z"
    }
   },
   "outputs": [
    {
     "name": "stdout",
     "output_type": "stream",
     "text": [
      "<class 'pandas.core.frame.DataFrame'>\n",
      "RangeIndex: 7351 entries, 0 to 7350\n",
      "Columns: 561 entries, 2.8858451e-001 to -5.8626924e-002\n",
      "dtypes: float64(561)\n",
      "memory usage: 31.5 MB\n"
     ]
    }
   ],
   "source": [
    "pd.read_csv('./datasets/human_activity/train/X_train.txt', sep=\"\\s+\").info()"
   ]
  },
  {
   "cell_type": "code",
   "execution_count": 8,
   "id": "27f23402",
   "metadata": {
    "ExecuteTime": {
     "end_time": "2023-02-01T06:32:51.637087Z",
     "start_time": "2023-02-01T06:32:51.628881Z"
    }
   },
   "outputs": [
    {
     "data": {
      "text/plain": [
       "['fBodyGyro-energy()-Y',\n",
       " 'tBodyAccJerk-arCoeff()-Y,1',\n",
       " 'fBodyAcc-mad()-Z',\n",
       " 'fBodyGyro-mad()-Z',\n",
       " 'fBodyGyro-kurtosis()-Z',\n",
       " 'tGravityAcc-arCoeff()-X,3',\n",
       " 'fBodyAccMag-entropy()',\n",
       " 'tGravityAccMag-energy()',\n",
       " 'tBodyGyroJerk-arCoeff()-Z,3',\n",
       " 'tBodyGyro-mad()-Y']"
      ]
     },
     "execution_count": 8,
     "metadata": {},
     "output_type": "execute_result"
    }
   ],
   "source": [
    "feature_name[:10]"
   ]
  },
  {
   "cell_type": "code",
   "execution_count": 18,
   "id": "f45e3b36",
   "metadata": {
    "ExecuteTime": {
     "end_time": "2023-02-01T07:15:20.232190Z",
     "start_time": "2023-02-01T07:15:12.027594Z"
    }
   },
   "outputs": [
    {
     "name": "stdout",
     "output_type": "stream",
     "text": [
      "column_index    42\n",
      "dtype: int64\n"
     ]
    }
   ],
   "source": [
    "feature_dup_df = feature_name_df.groupby('column_name').count()\n",
    "print(feature_dup_df[feature_dup_df['column_index']>1].count())\n",
    "feature_dup_df[feature_dup_df['column_index']>1].head()\n",
    "\n",
    "def get_new_feature_name_df(old_feature_name_df):\n",
    "    feature_dup_df = pd.DataFrame(data=old_feature_name_df.groupby('column_name').cumcount(), columns=['dup_cnt'])\n",
    "    feature_dup_df = feature_dup_df.reset_index()\n",
    "    new_feature_name_df = pd.merge(old_feature_name_df.reset_index(), feature_dup_df, how='outer')\n",
    "    new_feature_name_df['column_name'] = new_feature_name_df[['column_name', 'dup_cnt']].apply(lambda x : x[0]+'_'+str(x[1]) if x[1] > 0 else x[0], axis=1)\n",
    "    new_feature_name_df = new_feature_name_df.drop(['index'], axis=1)\n",
    "    return new_feature_name_df\n",
    "\n",
    "def get_human_dataset():\n",
    "    feature_name_df = pd.read_csv('./datasets/human_activity/features.txt', sep='\\s+', header=None, names=['column_index', 'column_name'])\n",
    "    new_feature_name_df = get_new_feature_name_df(feature_name_df)\n",
    "    feature_name = new_feature_name_df.iloc[:, 1].values.tolist()\n",
    "    X_train = pd.read_csv('./datasets/human_activity/train/X_train.txt', sep='\\s+', names=feature_name)\n",
    "    X_test = pd.read_csv('./datasets/human_activity/test/X_test.txt', sep='\\s+', names=feature_name)\n",
    "    \n",
    "    y_train = pd.read_csv('./datasets/human_activity/train/y_train.txt', sep='\\s+', header=None, names=['action'])\n",
    "    y_test = pd.read_csv('./datasets/human_activity/test/y_test.txt', sep='\\s+', header=None, names=['action'])\n",
    "    \n",
    "    return X_train, X_test, y_train, y_test\n",
    "\n",
    "X_train, X_test, y_train, y_test = get_human_dataset()"
   ]
  },
  {
   "cell_type": "code",
   "execution_count": 20,
   "id": "90825122",
   "metadata": {
    "ExecuteTime": {
     "end_time": "2023-02-01T07:16:25.747796Z",
     "start_time": "2023-02-01T07:16:25.723329Z"
    }
   },
   "outputs": [
    {
     "name": "stdout",
     "output_type": "stream",
     "text": [
      "<class 'pandas.core.frame.DataFrame'>\n",
      "RangeIndex: 7352 entries, 0 to 7351\n",
      "Columns: 561 entries, tBodyAcc-mean()-X to angle(Z,gravityMean)\n",
      "dtypes: float64(561)\n",
      "memory usage: 31.5 MB\n"
     ]
    }
   ],
   "source": [
    "X_train.info()"
   ]
  },
  {
   "cell_type": "code",
   "execution_count": 22,
   "id": "1c0a52e1",
   "metadata": {
    "ExecuteTime": {
     "end_time": "2023-02-01T07:17:39.398388Z",
     "start_time": "2023-02-01T07:17:39.381269Z"
    }
   },
   "outputs": [
    {
     "data": {
      "text/plain": [
       "6    1407\n",
       "5    1374\n",
       "4    1286\n",
       "1    1226\n",
       "2    1073\n",
       "3     986\n",
       "Name: action, dtype: int64"
      ]
     },
     "execution_count": 22,
     "metadata": {},
     "output_type": "execute_result"
    }
   ],
   "source": [
    "y_train['action'].value_counts()"
   ]
  },
  {
   "cell_type": "code",
   "execution_count": 23,
   "id": "0d687caa",
   "metadata": {
    "ExecuteTime": {
     "end_time": "2023-02-01T07:50:27.752752Z",
     "start_time": "2023-02-01T07:50:18.380511Z"
    }
   },
   "outputs": [
    {
     "name": "stdout",
     "output_type": "stream",
     "text": [
      "0.8548\n",
      "DecisionTreeClassifier 기본 하이퍼파라미터: {'ccp_alpha': 0.0, 'class_weight': None, 'criterion': 'gini', 'max_depth': None, 'max_features': None, 'max_leaf_nodes': None, 'min_impurity_decrease': 0.0, 'min_samples_leaf': 1, 'min_samples_split': 2, 'min_weight_fraction_leaf': 0.0, 'random_state': 156, 'splitter': 'best'}\n"
     ]
    }
   ],
   "source": [
    "from sklearn.tree import DecisionTreeClassifier\n",
    "from sklearn.metrics import accuracy_score\n",
    "\n",
    "dt_clf = DecisionTreeClassifier(random_state=156)\n",
    "dt_clf.fit(X_train, y_train)\n",
    "pred = dt_clf.predict(X_test)\n",
    "accuracy = accuracy_score(y_test, pred)\n",
    "\n",
    "print(round(accuracy,4))\n",
    "print('DecisionTreeClassifier 기본 하이퍼파라미터:', dt_clf.get_params())"
   ]
  },
  {
   "cell_type": "code",
   "execution_count": 31,
   "id": "c1283b9e",
   "metadata": {
    "ExecuteTime": {
     "end_time": "2023-02-01T07:57:09.423485Z",
     "start_time": "2023-02-01T07:57:09.290637Z"
    }
   },
   "outputs": [],
   "source": [
    "from sklearn.tree import export_graphviz\n",
    "# export_graohviz() 호출결과로 out_file로 지정된 tree.dot파일 생성\n",
    "export_graphviz(dt_clf,out_file=\"human_tree.dot\",class_names=[\"1\",\"2\",\"3\",\"4\",\"5\",\"6\"],\n",
    "               feature_names=feature_name,impurity=True,filled=True)\n",
    "\n",
    "import graphviz\n",
    "\n",
    "with open('human_tree.dot') as f:\n",
    "    dot_graph = f.read()\n",
    "graph = graphviz.Source(dot_graph)"
   ]
  },
  {
   "cell_type": "code",
   "execution_count": 33,
   "id": "80eff7e9",
   "metadata": {
    "ExecuteTime": {
     "end_time": "2023-02-01T07:58:43.959933Z",
     "start_time": "2023-02-01T07:58:39.318617Z"
    },
    "scrolled": false
   },
   "outputs": [
    {
     "data": {
      "text/plain": [
       "'humanity_tree_img.png'"
      ]
     },
     "execution_count": 33,
     "metadata": {},
     "output_type": "execute_result"
    }
   ],
   "source": [
    "graph.render(filename='humanity_tree_img', directory='./', format='png')"
   ]
  },
  {
   "cell_type": "code",
   "execution_count": 38,
   "id": "35384b4c",
   "metadata": {
    "ExecuteTime": {
     "end_time": "2023-02-01T08:08:24.907228Z",
     "start_time": "2023-02-01T08:05:04.438322Z"
    }
   },
   "outputs": [
    {
     "name": "stdout",
     "output_type": "stream",
     "text": [
      "Fitting 5 folds for each of 7 candidates, totalling 35 fits\n",
      "GridSearchCV 최고 평균 정확도 수치:  0.8513\n",
      "GridSearchCV 최적 하이퍼파라미터:  {'max_depth': 16}\n"
     ]
    }
   ],
   "source": [
    "from sklearn.model_selection import GridSearchCV\n",
    "\n",
    "params = {\n",
    "    'max_depth' : [6, 8, 10, 12, 16, 20, 24]\n",
    "         }\n",
    "\n",
    "grid_cv = GridSearchCV(dt_clf, param_grid=params, scoring='accuracy', cv=5, verbose=1)\n",
    "grid_cv.fit(X_train, y_train)\n",
    "print('GridSearchCV 최고 평균 정확도 수치: ',round(grid_cv.best_score_, 4))\n",
    "print('GridSearchCV 최적 하이퍼파라미터: ', grid_cv.best_params_)"
   ]
  },
  {
   "cell_type": "code",
   "execution_count": 39,
   "id": "c9317fb4",
   "metadata": {
    "ExecuteTime": {
     "end_time": "2023-02-01T08:09:50.476413Z",
     "start_time": "2023-02-01T08:09:50.465171Z"
    }
   },
   "outputs": [],
   "source": [
    "best_dt = grid_cv.best_estimator_"
   ]
  },
  {
   "cell_type": "code",
   "execution_count": 40,
   "id": "579f8af6",
   "metadata": {
    "ExecuteTime": {
     "end_time": "2023-02-01T08:09:51.348198Z",
     "start_time": "2023-02-01T08:09:51.309418Z"
    }
   },
   "outputs": [
    {
     "data": {
      "text/plain": [
       "0.8574821852731591"
      ]
     },
     "execution_count": 40,
     "metadata": {},
     "output_type": "execute_result"
    }
   ],
   "source": [
    "result= best_dt.predict(X_test)\n",
    "best_accuracy = accuracy_score(y_test, result)\n",
    "best_accuracy"
   ]
  },
  {
   "cell_type": "code",
   "execution_count": 42,
   "id": "a0bbffa5",
   "metadata": {
    "ExecuteTime": {
     "end_time": "2023-02-01T08:10:02.555009Z",
     "start_time": "2023-02-01T08:10:02.540694Z"
    }
   },
   "outputs": [
    {
     "data": {
      "text/plain": [
       "{'mean_fit_time': array([2.93888183, 4.42604818, 5.14432726, 5.7881566 , 6.87992878,\n",
       "        6.47109914, 6.66349778]),\n",
       " 'std_fit_time': array([0.41953586, 0.20070407, 0.22398381, 0.28035913, 0.9461967 ,\n",
       "        0.55900781, 0.47685394]),\n",
       " 'mean_score_time': array([0.01357031, 0.02493196, 0.0144702 , 0.02096338, 0.01974959,\n",
       "        0.01734571, 0.01947451]),\n",
       " 'std_score_time': array([0.0013548 , 0.00769797, 0.00440514, 0.00764006, 0.00480985,\n",
       "        0.00495256, 0.00399767]),\n",
       " 'param_max_depth': masked_array(data=[6, 8, 10, 12, 16, 20, 24],\n",
       "              mask=[False, False, False, False, False, False, False],\n",
       "        fill_value='?',\n",
       "             dtype=object),\n",
       " 'params': [{'max_depth': 6},\n",
       "  {'max_depth': 8},\n",
       "  {'max_depth': 10},\n",
       "  {'max_depth': 12},\n",
       "  {'max_depth': 16},\n",
       "  {'max_depth': 20},\n",
       "  {'max_depth': 24}],\n",
       " 'split0_test_score': array([0.81373215, 0.82053025, 0.79945615, 0.79469748, 0.79945615,\n",
       "        0.8028552 , 0.7960571 ]),\n",
       " 'split1_test_score': array([0.87287559, 0.81985044, 0.81441196, 0.81305235, 0.81849082,\n",
       "        0.81849082, 0.81849082]),\n",
       " 'split2_test_score': array([0.81972789, 0.85510204, 0.86326531, 0.84897959, 0.85306122,\n",
       "        0.85646259, 0.85646259]),\n",
       " 'split3_test_score': array([0.86598639, 0.86870748, 0.89115646, 0.87755102, 0.8877551 ,\n",
       "        0.87755102, 0.87755102]),\n",
       " 'split4_test_score': array([0.88163265, 0.89115646, 0.8877551 , 0.88639456, 0.89795918,\n",
       "        0.89863946, 0.89863946]),\n",
       " 'mean_test_score': array([0.85079094, 0.85106934, 0.851209  , 0.844135  , 0.8513445 ,\n",
       "        0.85079982, 0.8494402 ]),\n",
       " 'std_test_score': array([0.02831294, 0.02771858, 0.03770716, 0.03559823, 0.0381402 ,\n",
       "        0.03571801, 0.03759712]),\n",
       " 'rank_test_score': array([5, 3, 2, 7, 1, 4, 6])}"
      ]
     },
     "execution_count": 42,
     "metadata": {},
     "output_type": "execute_result"
    }
   ],
   "source": [
    "grid_cv.cv_results_"
   ]
  },
  {
   "cell_type": "code",
   "execution_count": 37,
   "id": "04534205",
   "metadata": {
    "ExecuteTime": {
     "end_time": "2023-02-01T08:04:13.874610Z",
     "start_time": "2023-02-01T08:02:48.773340Z"
    }
   },
   "outputs": [
    {
     "name": "stdout",
     "output_type": "stream",
     "text": [
      "Fitting 5 folds for each of 7 candidates, totalling 35 fits\n"
     ]
    },
    {
     "name": "stderr",
     "output_type": "stream",
     "text": [
      "\n",
      "KeyboardInterrupt\n",
      "\n"
     ]
    }
   ],
   "source": [
    "from sklearn.model_selection import GridSearchCV\n",
    "\n",
    "params = {\n",
    "    'max_depth' : [6, 8, 10, 12, 16, 20, 24]\n",
    "         }\n",
    "\n",
    "grid_cv = GridSearchCV(dt_clf, param_grid=params, scoring='accuracy', cv=5, verbose=1 , refit=False)\n",
    "grid_cv.fit(X_train, y_train)\n",
    "print('GridSearchCV 최고 평균 정확도 수치: ',round(grid_cv.best_score_, 4))\n",
    "print('GridSearchCV 최적 하이퍼파라미터: ', grid_cv.best_params_)"
   ]
  },
  {
   "cell_type": "code",
   "execution_count": 44,
   "id": "74210c31",
   "metadata": {
    "ExecuteTime": {
     "end_time": "2023-02-01T08:11:48.646142Z",
     "start_time": "2023-02-01T08:11:47.510265Z"
    }
   },
   "outputs": [
    {
     "data": {
      "image/png": "[encoded data removed]",
      "text/plain": [
       "<Figure size 800x600 with 1 Axes>"
      ]
     },
     "metadata": {},
     "output_type": "display_data"
    }
   ],
   "source": [
    "import matplotlib.pyplot as plt\n",
    "import seaborn as sns\n",
    "\n",
    "ftr_importances_values = best_dt.feature_importances_\n",
    "ftr_importances = pd.Series(ftr_importances_values, index=X_train.columns)\n",
    "ftr_top20 = ftr_importances.sort_values(ascending=False)[:20]\n",
    "plt.figure(figsize=(8,6))\n",
    "plt.title('Feature importances Top 20')\n",
    "sns.barplot(x=ftr_top20, y=ftr_top20.index)\n",
    "plt.show()"
   ]
  },
  {
   "cell_type": "code",
   "execution_count": null,
   "id": "df4cdecb",
   "metadata": {},
   "outputs": [],
   "source": []
  }
 ],
 "metadata": {
  "kernelspec": {
   "display_name": "Python 3 (ipykernel)",
   "language": "python",
   "name": "python3"
  },
  "language_info": {
   "codemirror_mode": {
    "name": "ipython",
    "version": 3
   },
   "file_extension": ".py",
   "mimetype": "text/x-python",
   "name": "python",
   "nbconvert_exporter": "python",
   "pygments_lexer": "ipython3",
   "version": "3.11.1"
  },
  "toc": {
   "base_numbering": 1,
   "nav_menu": {},
   "number_sections": true,
   "sideBar": true,
   "skip_h1_title": false,
   "title_cell": "Table of Contents",
   "title_sidebar": "Contents",
   "toc_cell": false,
   "toc_position": {},
   "toc_section_display": true,
   "toc_window_display": false
  },
  "varInspector": {
   "cols": {
    "lenName": 16,
    "lenType": 16,
    "lenVar": 40
   },
   "kernels_config": {
    "python": {
     "delete_cmd_postfix": "",
     "delete_cmd_prefix": "del ",
     "library": "var_list.py",
     "varRefreshCmd": "print(var_dic_list())"
    },
    "r": {
     "delete_cmd_postfix": ") ",
     "delete_cmd_prefix": "rm(",
     "library": "var_list.r",
     "varRefreshCmd": "cat(var_dic_list()) "
    }
   },
   "types_to_exclude": [
    "module",
    "function",
    "builtin_function_or_method",
    "instance",
    "_Feature"
   ],
   "window_display": false
  }
 },
 "nbformat": 4,
 "nbformat_minor": 5
}
