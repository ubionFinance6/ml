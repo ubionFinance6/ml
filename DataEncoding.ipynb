{
 "cells": [
  {
   "cell_type": "markdown",
   "id": "5bfc8645",
   "metadata": {},
   "source": [
    "### sklearn.preprocessing.LabelEncoder\n",
    "**_class_ sklearn.preprocessing.LabelEncoder**[[source]](https://github.com/scikit-learn/scikit-learn/blob/ff1023fda/sklearn/preprocessing/_label.py#L36)[¶](https://scikit-learn.org/stable/modules/generated/sklearn.preprocessing.LabelEncoder.html#sklearn.preprocessing.LabelEncoder \"Permalink to this definition\")\n",
    "\n",
    "Encode target labels with value between 0 and n_classes-1.\n",
    "\n",
    "This transformer should be used to encode target values,  _i.e._  `y`, and not the input  `X`.\n",
    "\n",
    "Read more in the  [User Guide](https://scikit-learn.org/stable/modules/preprocessing_targets.html#preprocessing-targets)."
   ]
  },
  {
   "cell_type": "code",
   "execution_count": 1,
   "id": "11fe155c",
   "metadata": {
    "ExecuteTime": {
     "end_time": "2023-01-30T01:54:00.155264Z",
     "start_time": "2023-01-30T01:53:56.564454Z"
    }
   },
   "outputs": [
    {
     "name": "stdout",
     "output_type": "stream",
     "text": [
      "인코딩 변환값 [0 1 4 5 3 3 2 2]\n"
     ]
    }
   ],
   "source": [
    "from sklearn.preprocessing import LabelEncoder\n",
    "\n",
    "items = ['TV', '냉장고', '전자렌지', '컴퓨터', '선풍기', '선풍기', '믹서', '믹서']\n",
    "\n",
    "LE = LabelEncoder()\n",
    "LE.fit(items)\n",
    "labels = LE.transform(items)\n",
    "print('인코딩 변환값', labels)"
   ]
  },
  {
   "cell_type": "code",
   "execution_count": 2,
   "id": "5b0025c0",
   "metadata": {
    "ExecuteTime": {
     "end_time": "2023-01-30T01:54:22.162205Z",
     "start_time": "2023-01-30T01:54:22.153077Z"
    }
   },
   "outputs": [
    {
     "data": {
      "text/plain": [
       "array(['TV', '냉장고', '믹서', '선풍기', '전자렌지', '컴퓨터'], dtype='<U4')"
      ]
     },
     "execution_count": 2,
     "metadata": {},
     "output_type": "execute_result"
    }
   ],
   "source": [
    "LE.classes_"
   ]
  },
  {
   "cell_type": "code",
   "execution_count": 5,
   "id": "5828cf66",
   "metadata": {
    "ExecuteTime": {
     "end_time": "2023-01-30T01:58:06.730340Z",
     "start_time": "2023-01-30T01:58:06.721654Z"
    }
   },
   "outputs": [
    {
     "name": "stdout",
     "output_type": "stream",
     "text": [
      "인코딩 변환값 [0 1 4 5 3 3 2 2]\n"
     ]
    }
   ],
   "source": [
    "from sklearn.preprocessing import LabelEncoder\n",
    "\n",
    "items = ['TV', '냉장고', '전자렌지', '컴퓨터', '선풍기', '선풍기', '믹서', '믹서']\n",
    "\n",
    "LE = LabelEncoder()\n",
    "\n",
    "labels = LE.fit_transform(items)\n",
    "print('인코딩 변환값', labels)"
   ]
  },
  {
   "cell_type": "code",
   "execution_count": 6,
   "id": "13cd7241",
   "metadata": {
    "ExecuteTime": {
     "end_time": "2023-01-30T01:59:16.285551Z",
     "start_time": "2023-01-30T01:59:16.276578Z"
    }
   },
   "outputs": [
    {
     "data": {
      "text/plain": [
       "array(['TV', 'TV', '냉장고'], dtype='<U4')"
      ]
     },
     "execution_count": 6,
     "metadata": {},
     "output_type": "execute_result"
    }
   ],
   "source": [
    "LE.inverse_transform([0,0,1])"
   ]
  },
  {
   "cell_type": "markdown",
   "id": "2c2ecf3a",
   "metadata": {},
   "source": [
    "### sklearn.preprocessing.OneHotEncoder\n",
    "**_class_ sklearn.preprocessing.OneHotEncoder(_*_,  _categories='auto'_,  _drop=None_,  _sparse=True_,  _dtype=<class  'numpy.float64'>_,  _handle_unknown='error'_,  _min_frequency=None_,  _max_categories=None_)[[source]](https://github.com/scikit-learn/scikit-learn/blob/f3f51f9b6/sklearn/preprocessing/_encoders.py#L201)[](https://scikit-learn.org/1.1/modules/generated/sklearn.preprocessing.OneHotEncoder.html?highlight=onehotencoding#sklearn.preprocessing.OneHotEncoder \"Permalink to this definition\")\n",
    "\n",
    "Encode categorical features as a one-hot numeric array.\n",
    "\n",
    "The input to this transformer should be an array-like of integers or strings, denoting the values taken on by categorical (discrete) features. The features are encoded using a one-hot (aka ‘one-of-K’ or ‘dummy’) encoding scheme. This creates a binary column for each category and returns a sparse matrix or dense array (depending on the  `sparse`  parameter)\n",
    "\n",
    "By default, the encoder derives the categories based on the unique values in each feature. Alternatively, you can also specify the  `categories`  manually.\n",
    "\n",
    "This encoding is needed for feeding categorical data to many scikit-learn estimators, notably linear models and SVMs with the standard kernels.\n",
    "\n",
    "Note: a one-hot encoding of y labels should use a LabelBinarizer instead.\n",
    "\n",
    "Read more in the  [User Guide](https://scikit-learn.org/1.1/modules/preprocessing.html#preprocessing-categorical-features)."
   ]
  },
  {
   "cell_type": "code",
   "execution_count": 7,
   "id": "0bb34cb9",
   "metadata": {
    "ExecuteTime": {
     "end_time": "2023-01-30T02:17:56.960102Z",
     "start_time": "2023-01-30T02:17:56.930992Z"
    }
   },
   "outputs": [
    {
     "name": "stderr",
     "output_type": "stream",
     "text": [
      "C:\\Users\\user\\AppData\\Local\\Programs\\Python\\Python311\\Lib\\site-packages\\sklearn\\preprocessing\\_encoders.py:828: FutureWarning: `sparse` was renamed to `sparse_output` in version 1.2 and will be removed in 1.4. `sparse_output` is ignored unless you leave `sparse` to its default value.\n",
      "  warnings.warn(\n"
     ]
    },
    {
     "data": {
      "text/plain": [
       "[array(['a', 'd'], dtype=object)]"
      ]
     },
     "execution_count": 7,
     "metadata": {},
     "output_type": "execute_result"
    }
   ],
   "source": [
    "from sklearn.preprocessing import OneHotEncoder\n",
    "import numpy as np\n",
    "\n",
    "X = np.array([[\"a\"] * 5 + [\"b\"] * 20 + [\"c\"] * 10 + [\"d\"] * 3], dtype=object).T\n",
    "ohe = OneHotEncoder(max_categories=3, sparse=False).fit(X)\n",
    "ohe.infrequent_categories_"
   ]
  },
  {
   "cell_type": "code",
   "execution_count": 9,
   "id": "09d8ae08",
   "metadata": {
    "ExecuteTime": {
     "end_time": "2023-01-30T02:18:15.242912Z",
     "start_time": "2023-01-30T02:18:15.229353Z"
    },
    "scrolled": true
   },
   "outputs": [
    {
     "data": {
      "text/plain": [
       "array([[0., 0., 1.],\n",
       "       [1., 0., 0.]])"
      ]
     },
     "execution_count": 9,
     "metadata": {},
     "output_type": "execute_result"
    }
   ],
   "source": [
    "ohe.transform([[\"a\"], [\"b\"]])"
   ]
  },
  {
   "cell_type": "code",
   "execution_count": 10,
   "id": "58e056f1",
   "metadata": {
    "ExecuteTime": {
     "end_time": "2023-01-30T02:18:46.138620Z",
     "start_time": "2023-01-30T02:18:46.130350Z"
    }
   },
   "outputs": [
    {
     "data": {
      "text/plain": [
       "<2x3 sparse matrix of type '<class 'numpy.float64'>'\n",
       "\twith 2 stored elements in Compressed Sparse Row format>"
      ]
     },
     "execution_count": 10,
     "metadata": {},
     "output_type": "execute_result"
    }
   ],
   "source": [
    "ohe_1 = OneHotEncoder(max_categories=3).fit(X)\n",
    "ohe_1.transform([[\"a\"], [\"b\"]])"
   ]
  },
  {
   "cell_type": "code",
   "execution_count": 15,
   "id": "971bc296",
   "metadata": {
    "ExecuteTime": {
     "end_time": "2023-01-30T02:23:53.479772Z",
     "start_time": "2023-01-30T02:23:53.469782Z"
    }
   },
   "outputs": [
    {
     "name": "stderr",
     "output_type": "stream",
     "text": [
      "C:\\Users\\user\\AppData\\Local\\Programs\\Python\\Python311\\Lib\\site-packages\\sklearn\\preprocessing\\_encoders.py:828: FutureWarning: `sparse` was renamed to `sparse_output` in version 1.2 and will be removed in 1.4. `sparse_output` is ignored unless you leave `sparse` to its default value.\n",
      "  warnings.warn(\n"
     ]
    },
    {
     "data": {
      "text/plain": [
       "array([[1., 0., 0., 0.],\n",
       "       [0., 1., 0., 0.],\n",
       "       [0., 0., 0., 0.]])"
      ]
     },
     "execution_count": 15,
     "metadata": {},
     "output_type": "execute_result"
    }
   ],
   "source": [
    "ohe_2 = OneHotEncoder(sparse=False ,handle_unknown='ignore' ).fit(X)\n",
    "ohe_2.transform([[\"a\"], [\"b\"] ,[\"f\"]])"
   ]
  },
  {
   "cell_type": "code",
   "execution_count": 29,
   "id": "70a9d9ac",
   "metadata": {
    "ExecuteTime": {
     "end_time": "2023-01-30T04:13:16.342894Z",
     "start_time": "2023-01-30T04:13:16.334233Z"
    }
   },
   "outputs": [
    {
     "name": "stderr",
     "output_type": "stream",
     "text": [
      "C:\\Users\\user\\AppData\\Local\\Programs\\Python\\Python311\\Lib\\site-packages\\sklearn\\preprocessing\\_encoders.py:828: FutureWarning: `sparse` was renamed to `sparse_output` in version 1.2 and will be removed in 1.4. `sparse_output` is ignored unless you leave `sparse` to its default value.\n",
      "  warnings.warn(\n"
     ]
    }
   ],
   "source": [
    "from sklearn.preprocessing import OneHotEncoder\n",
    "import numpy as np\n",
    "items =np.array( ['TV', '냉장고', '전자렌지', '컴퓨터', '선풍기', '선풍기', '믹서', '믹서']).reshape(-1,1)\n",
    "\n",
    "# items = np.array(items)\n",
    "# print(items.shape)\n",
    "# items = np.array(items).reshape(-1,1)\n",
    "# print(items.shape)\n",
    "oh_encoder= OneHotEncoder(sparse=False)\n",
    "result = oh_encoder.fit_transform(items)"
   ]
  },
  {
   "cell_type": "code",
   "execution_count": 30,
   "id": "826b70b1",
   "metadata": {
    "ExecuteTime": {
     "end_time": "2023-01-30T04:13:16.787269Z",
     "start_time": "2023-01-30T04:13:16.776165Z"
    }
   },
   "outputs": [
    {
     "data": {
      "text/plain": [
       "array([[1., 0., 0., 0., 0., 0.],\n",
       "       [0., 1., 0., 0., 0., 0.],\n",
       "       [0., 0., 0., 0., 1., 0.],\n",
       "       [0., 0., 0., 0., 0., 1.],\n",
       "       [0., 0., 0., 1., 0., 0.],\n",
       "       [0., 0., 0., 1., 0., 0.],\n",
       "       [0., 0., 1., 0., 0., 0.],\n",
       "       [0., 0., 1., 0., 0., 0.]])"
      ]
     },
     "execution_count": 30,
     "metadata": {},
     "output_type": "execute_result"
    }
   ],
   "source": [
    "result"
   ]
  },
  {
   "cell_type": "code",
   "execution_count": 32,
   "id": "32fcbf01",
   "metadata": {
    "ExecuteTime": {
     "end_time": "2023-01-30T04:14:14.199186Z",
     "start_time": "2023-01-30T04:14:14.163285Z"
    }
   },
   "outputs": [
    {
     "data": {
      "text/html": [
       "<div>\n",
       "<style scoped>\n",
       "    .dataframe tbody tr th:only-of-type {\n",
       "        vertical-align: middle;\n",
       "    }\n",
       "\n",
       "    .dataframe tbody tr th {\n",
       "        vertical-align: top;\n",
       "    }\n",
       "\n",
       "    .dataframe thead th {\n",
       "        text-align: right;\n",
       "    }\n",
       "</style>\n",
       "<table border=\"1\" class=\"dataframe\">\n",
       "  <thead>\n",
       "    <tr style=\"text-align: right;\">\n",
       "      <th></th>\n",
       "      <th>TV</th>\n",
       "      <th>냉장고</th>\n",
       "      <th>전자렌지</th>\n",
       "      <th>컴퓨터</th>\n",
       "      <th>선풍기</th>\n",
       "      <th>믹서</th>\n",
       "    </tr>\n",
       "  </thead>\n",
       "  <tbody>\n",
       "    <tr>\n",
       "      <th>0</th>\n",
       "      <td>1.0</td>\n",
       "      <td>0.0</td>\n",
       "      <td>0.0</td>\n",
       "      <td>0.0</td>\n",
       "      <td>0.0</td>\n",
       "      <td>0.0</td>\n",
       "    </tr>\n",
       "    <tr>\n",
       "      <th>1</th>\n",
       "      <td>0.0</td>\n",
       "      <td>1.0</td>\n",
       "      <td>0.0</td>\n",
       "      <td>0.0</td>\n",
       "      <td>0.0</td>\n",
       "      <td>0.0</td>\n",
       "    </tr>\n",
       "    <tr>\n",
       "      <th>2</th>\n",
       "      <td>0.0</td>\n",
       "      <td>0.0</td>\n",
       "      <td>0.0</td>\n",
       "      <td>0.0</td>\n",
       "      <td>1.0</td>\n",
       "      <td>0.0</td>\n",
       "    </tr>\n",
       "    <tr>\n",
       "      <th>3</th>\n",
       "      <td>0.0</td>\n",
       "      <td>0.0</td>\n",
       "      <td>0.0</td>\n",
       "      <td>0.0</td>\n",
       "      <td>0.0</td>\n",
       "      <td>1.0</td>\n",
       "    </tr>\n",
       "    <tr>\n",
       "      <th>4</th>\n",
       "      <td>0.0</td>\n",
       "      <td>0.0</td>\n",
       "      <td>0.0</td>\n",
       "      <td>1.0</td>\n",
       "      <td>0.0</td>\n",
       "      <td>0.0</td>\n",
       "    </tr>\n",
       "    <tr>\n",
       "      <th>5</th>\n",
       "      <td>0.0</td>\n",
       "      <td>0.0</td>\n",
       "      <td>0.0</td>\n",
       "      <td>1.0</td>\n",
       "      <td>0.0</td>\n",
       "      <td>0.0</td>\n",
       "    </tr>\n",
       "    <tr>\n",
       "      <th>6</th>\n",
       "      <td>0.0</td>\n",
       "      <td>0.0</td>\n",
       "      <td>1.0</td>\n",
       "      <td>0.0</td>\n",
       "      <td>0.0</td>\n",
       "      <td>0.0</td>\n",
       "    </tr>\n",
       "    <tr>\n",
       "      <th>7</th>\n",
       "      <td>0.0</td>\n",
       "      <td>0.0</td>\n",
       "      <td>1.0</td>\n",
       "      <td>0.0</td>\n",
       "      <td>0.0</td>\n",
       "      <td>0.0</td>\n",
       "    </tr>\n",
       "  </tbody>\n",
       "</table>\n",
       "</div>"
      ],
      "text/plain": [
       "    TV  냉장고  전자렌지  컴퓨터  선풍기   믹서\n",
       "0  1.0  0.0   0.0  0.0  0.0  0.0\n",
       "1  0.0  1.0   0.0  0.0  0.0  0.0\n",
       "2  0.0  0.0   0.0  0.0  1.0  0.0\n",
       "3  0.0  0.0   0.0  0.0  0.0  1.0\n",
       "4  0.0  0.0   0.0  1.0  0.0  0.0\n",
       "5  0.0  0.0   0.0  1.0  0.0  0.0\n",
       "6  0.0  0.0   1.0  0.0  0.0  0.0\n",
       "7  0.0  0.0   1.0  0.0  0.0  0.0"
      ]
     },
     "execution_count": 32,
     "metadata": {},
     "output_type": "execute_result"
    }
   ],
   "source": [
    "import pandas as pd \n",
    "pd.DataFrame(result , columns=['TV', '냉장고', '전자렌지', '컴퓨터', '선풍기', '믹서'])"
   ]
  },
  {
   "cell_type": "code",
   "execution_count": null,
   "id": "202a1f12",
   "metadata": {},
   "outputs": [],
   "source": []
  }
 ],
 "metadata": {
  "kernelspec": {
   "display_name": "Python 3 (ipykernel)",
   "language": "python",
   "name": "python3"
  },
  "language_info": {
   "codemirror_mode": {
    "name": "ipython",
    "version": 3
   },
   "file_extension": ".py",
   "mimetype": "text/x-python",
   "name": "python",
   "nbconvert_exporter": "python",
   "pygments_lexer": "ipython3",
   "version": "3.11.1"
  },
  "toc": {
   "base_numbering": 1,
   "nav_menu": {},
   "number_sections": true,
   "sideBar": true,
   "skip_h1_title": false,
   "title_cell": "Table of Contents",
   "title_sidebar": "Contents",
   "toc_cell": false,
   "toc_position": {},
   "toc_section_display": true,
   "toc_window_display": false
  },
  "varInspector": {
   "cols": {
    "lenName": 16,
    "lenType": 16,
    "lenVar": 40
   },
   "kernels_config": {
    "python": {
     "delete_cmd_postfix": "",
     "delete_cmd_prefix": "del ",
     "library": "var_list.py",
     "varRefreshCmd": "print(var_dic_list())"
    },
    "r": {
     "delete_cmd_postfix": ") ",
     "delete_cmd_prefix": "rm(",
     "library": "var_list.r",
     "varRefreshCmd": "cat(var_dic_list()) "
    }
   },
   "types_to_exclude": [
    "module",
    "function",
    "builtin_function_or_method",
    "instance",
    "_Feature"
   ],
   "window_display": false
  }
 },
 "nbformat": 4,
 "nbformat_minor": 5
}
